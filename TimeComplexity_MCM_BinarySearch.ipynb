{
 "cells": [
  {
   "cell_type": "markdown",
   "metadata": {},
   "source": [
    "This notebook will show the average time complexity of the Binary Search Algorithm found through Monte Carlo Methods. "
   ]
  },
  {
   "cell_type": "code",
   "execution_count": 1,
   "metadata": {},
   "outputs": [],
   "source": [
    "# Import necessary libraries\n",
    "\n",
    "import math\n",
    "import random as r\n",
    "import pandas as pd\n",
    "import numpy as np\n",
    "import seaborn as sns\n",
    "import matplotlib.pyplot as plt"
   ]
  },
  {
   "cell_type": "code",
   "execution_count": 2,
   "metadata": {},
   "outputs": [],
   "source": [
    "# Function that picks a random value between the inputs mi and ma and then runs the \n",
    "# binary search algorithm recursively until it chooses correctly which then executes\n",
    "# a condition to return the number of guesses that took place. Notice that\n",
    "# numguess must be initialied at 0 before running this function\n",
    "\n",
    "def game(mi,ma):\n",
    "        global numguess\n",
    "        numguess += 1\n",
    "        g = math.floor((mi+ma)/2)\n",
    "        if g == randnum:\n",
    "            return numguess\n",
    "        else:\n",
    "            if randnum > g:\n",
    "                mi = g+1\n",
    "            else:\n",
    "                ma = g-1       \n",
    "            game(mi,ma)"
   ]
  },
  {
   "cell_type": "code",
   "execution_count": 3,
   "metadata": {},
   "outputs": [],
   "source": [
    "# nList provides n values for the range between mi and ma\n",
    "# nIter set to 100,000 for the Monte Carlo Method to provide a very accurate representation for each n value\n",
    "# gAvgs is an initialized list to append the average number of guesses it took for each value n over the nIter iterations\n",
    "# log2 is an initialized list to append the log2(n) which is considered the worst case scenario for this algo\n",
    "\n",
    "nList = [5, 7, 9, 12, 15, 20, 25, 30, 40, 50, 75, 100, 150, 250, \n",
    "         500, 1000, 5000, 10000, 100000, 500000, 1000000]\n",
    "nIter = 100000\n",
    "gAvgs = []\n",
    "log2 = []"
   ]
  },
  {
   "cell_type": "code",
   "execution_count": 4,
   "metadata": {},
   "outputs": [],
   "source": [
    "# Here is the core of this project. Run a for loop for each n value in nList which eventually runs another\n",
    "# for loop that will run nIter number of times gthering the sum of the number of guesses for each simulation\n",
    "# which then is used to calculate the average to append to gAvgs\n",
    "\n",
    "for n in nList:\n",
    "    mi = 1\n",
    "    gSum = 0\n",
    "    log2.append(math.log2(n))\n",
    "    for i in range(nIter):\n",
    "        randnum = r.randint(mi,n)\n",
    "        numguess = 0\n",
    "        game(mi,n)\n",
    "        gSum += numguess\n",
    "    gAvgs.append(gSum/nIter)"
   ]
  },
  {
   "cell_type": "code",
   "execution_count": 5,
   "metadata": {},
   "outputs": [
    {
     "data": {
      "text/html": [
       "<div>\n",
       "<style scoped>\n",
       "    .dataframe tbody tr th:only-of-type {\n",
       "        vertical-align: middle;\n",
       "    }\n",
       "\n",
       "    .dataframe tbody tr th {\n",
       "        vertical-align: top;\n",
       "    }\n",
       "\n",
       "    .dataframe thead th {\n",
       "        text-align: right;\n",
       "    }\n",
       "</style>\n",
       "<table border=\"1\" class=\"dataframe\">\n",
       "  <thead>\n",
       "    <tr style=\"text-align: right;\">\n",
       "      <th></th>\n",
       "      <th>n</th>\n",
       "      <th>Avg_Guess</th>\n",
       "      <th>log2(n)</th>\n",
       "      <th>Diff</th>\n",
       "    </tr>\n",
       "  </thead>\n",
       "  <tbody>\n",
       "    <tr>\n",
       "      <th>0</th>\n",
       "      <td>5</td>\n",
       "      <td>2.20095</td>\n",
       "      <td>2.321928</td>\n",
       "      <td>0.120978</td>\n",
       "    </tr>\n",
       "    <tr>\n",
       "      <th>1</th>\n",
       "      <td>7</td>\n",
       "      <td>2.43064</td>\n",
       "      <td>2.807355</td>\n",
       "      <td>0.376715</td>\n",
       "    </tr>\n",
       "    <tr>\n",
       "      <th>2</th>\n",
       "      <td>9</td>\n",
       "      <td>2.78383</td>\n",
       "      <td>3.169925</td>\n",
       "      <td>0.386095</td>\n",
       "    </tr>\n",
       "    <tr>\n",
       "      <th>3</th>\n",
       "      <td>12</td>\n",
       "      <td>3.08954</td>\n",
       "      <td>3.584963</td>\n",
       "      <td>0.495423</td>\n",
       "    </tr>\n",
       "    <tr>\n",
       "      <th>4</th>\n",
       "      <td>15</td>\n",
       "      <td>3.27066</td>\n",
       "      <td>3.906891</td>\n",
       "      <td>0.636231</td>\n",
       "    </tr>\n",
       "    <tr>\n",
       "      <th>5</th>\n",
       "      <td>20</td>\n",
       "      <td>3.69791</td>\n",
       "      <td>4.321928</td>\n",
       "      <td>0.624018</td>\n",
       "    </tr>\n",
       "    <tr>\n",
       "      <th>6</th>\n",
       "      <td>25</td>\n",
       "      <td>3.96378</td>\n",
       "      <td>4.643856</td>\n",
       "      <td>0.680076</td>\n",
       "    </tr>\n",
       "    <tr>\n",
       "      <th>7</th>\n",
       "      <td>30</td>\n",
       "      <td>4.13460</td>\n",
       "      <td>4.906891</td>\n",
       "      <td>0.772291</td>\n",
       "    </tr>\n",
       "    <tr>\n",
       "      <th>8</th>\n",
       "      <td>40</td>\n",
       "      <td>4.57383</td>\n",
       "      <td>5.321928</td>\n",
       "      <td>0.748098</td>\n",
       "    </tr>\n",
       "    <tr>\n",
       "      <th>9</th>\n",
       "      <td>50</td>\n",
       "      <td>4.85757</td>\n",
       "      <td>5.643856</td>\n",
       "      <td>0.786286</td>\n",
       "    </tr>\n",
       "    <tr>\n",
       "      <th>10</th>\n",
       "      <td>75</td>\n",
       "      <td>5.40603</td>\n",
       "      <td>6.228819</td>\n",
       "      <td>0.822789</td>\n",
       "    </tr>\n",
       "    <tr>\n",
       "      <th>11</th>\n",
       "      <td>100</td>\n",
       "      <td>5.79782</td>\n",
       "      <td>6.643856</td>\n",
       "      <td>0.846036</td>\n",
       "    </tr>\n",
       "    <tr>\n",
       "      <th>12</th>\n",
       "      <td>150</td>\n",
       "      <td>6.35468</td>\n",
       "      <td>7.228819</td>\n",
       "      <td>0.874139</td>\n",
       "    </tr>\n",
       "    <tr>\n",
       "      <th>13</th>\n",
       "      <td>250</td>\n",
       "      <td>7.01484</td>\n",
       "      <td>7.965784</td>\n",
       "      <td>0.950944</td>\n",
       "    </tr>\n",
       "    <tr>\n",
       "      <th>14</th>\n",
       "      <td>500</td>\n",
       "      <td>7.99570</td>\n",
       "      <td>8.965784</td>\n",
       "      <td>0.970084</td>\n",
       "    </tr>\n",
       "    <tr>\n",
       "      <th>15</th>\n",
       "      <td>1000</td>\n",
       "      <td>8.98996</td>\n",
       "      <td>9.965784</td>\n",
       "      <td>0.975824</td>\n",
       "    </tr>\n",
       "    <tr>\n",
       "      <th>16</th>\n",
       "      <td>5000</td>\n",
       "      <td>11.37071</td>\n",
       "      <td>12.287712</td>\n",
       "      <td>0.917002</td>\n",
       "    </tr>\n",
       "    <tr>\n",
       "      <th>17</th>\n",
       "      <td>10000</td>\n",
       "      <td>12.37170</td>\n",
       "      <td>13.287712</td>\n",
       "      <td>0.916012</td>\n",
       "    </tr>\n",
       "    <tr>\n",
       "      <th>18</th>\n",
       "      <td>100000</td>\n",
       "      <td>15.69047</td>\n",
       "      <td>16.609640</td>\n",
       "      <td>0.919170</td>\n",
       "    </tr>\n",
       "    <tr>\n",
       "      <th>19</th>\n",
       "      <td>500000</td>\n",
       "      <td>17.95061</td>\n",
       "      <td>18.931569</td>\n",
       "      <td>0.980959</td>\n",
       "    </tr>\n",
       "    <tr>\n",
       "      <th>20</th>\n",
       "      <td>1000000</td>\n",
       "      <td>18.95316</td>\n",
       "      <td>19.931569</td>\n",
       "      <td>0.978409</td>\n",
       "    </tr>\n",
       "  </tbody>\n",
       "</table>\n",
       "</div>"
      ],
      "text/plain": [
       "          n  Avg_Guess    log2(n)      Diff\n",
       "0         5    2.20095   2.321928  0.120978\n",
       "1         7    2.43064   2.807355  0.376715\n",
       "2         9    2.78383   3.169925  0.386095\n",
       "3        12    3.08954   3.584963  0.495423\n",
       "4        15    3.27066   3.906891  0.636231\n",
       "5        20    3.69791   4.321928  0.624018\n",
       "6        25    3.96378   4.643856  0.680076\n",
       "7        30    4.13460   4.906891  0.772291\n",
       "8        40    4.57383   5.321928  0.748098\n",
       "9        50    4.85757   5.643856  0.786286\n",
       "10       75    5.40603   6.228819  0.822789\n",
       "11      100    5.79782   6.643856  0.846036\n",
       "12      150    6.35468   7.228819  0.874139\n",
       "13      250    7.01484   7.965784  0.950944\n",
       "14      500    7.99570   8.965784  0.970084\n",
       "15     1000    8.98996   9.965784  0.975824\n",
       "16     5000   11.37071  12.287712  0.917002\n",
       "17    10000   12.37170  13.287712  0.916012\n",
       "18   100000   15.69047  16.609640  0.919170\n",
       "19   500000   17.95061  18.931569  0.980959\n",
       "20  1000000   18.95316  19.931569  0.978409"
      ]
     },
     "metadata": {},
     "output_type": "display_data"
    }
   ],
   "source": [
    "# dic is the creation of the dictionary to then feed into the pandas dataframe function which is called df.\n",
    "# Create Diff column containing the difference between log2(n) and Avg_Guess columns and display df\n",
    "\n",
    "dic = {\"n\":nList,\"Avg_Guess\":gAvgs, \"log2(n)\":log2}\n",
    "df = pd.DataFrame(dic)\n",
    "df['Diff'] = df['log2(n)'] - df['Avg_Guess']\n",
    "display(df)"
   ]
  },
  {
   "cell_type": "markdown",
   "metadata": {},
   "source": [
    "Notice that the \"actual\" value calculated by log2(n) is consistently\n",
    ".1-1 greater than that of the corresponding Monte Carlo Method approximation Avg_Guess\n",
    "as displayed in the Diff column. This makes sense though since the log2(n) represents the worst case\n",
    "scenario due to how the O(log2(n)) is derived mathematically. Another interesting and intuitive outcome here \n",
    "is that the Diff values tend to get bigger as the value n grows."
   ]
  },
  {
   "cell_type": "code",
   "execution_count": 6,
   "metadata": {},
   "outputs": [],
   "source": [
    "# This function is meant to take the data above which can be modeled with a log function and output\n",
    "# the parameters for regression of the function y = aln(x) + b, specifically x = [a, b]. The lambda function\n",
    "# next will use the parameters a and b so make sure to call this function in this manner:\n",
    "# should be called like so: a,b = log_least_sq(...)\n",
    "\n",
    "def log_least_sq(df, x_name, y_name):\n",
    "    y = np.matrix(np.array(df.loc[:,[y_name]]))\n",
    "    onest = np.transpose(np.ones([df.shape[0],1]))\n",
    "    log = np.log(np.array(df.loc[:,[x_name]]))\n",
    "    logt = np.transpose(log)\n",
    "    A = np.transpose(np.matrix([logt[0], onest[0]]))\n",
    "    Q,R = np.linalg.qr(A)\n",
    "    d = np.transpose(Q)*y\n",
    "    x = np.linalg.solve(R, d)\n",
    "    return float(x[0]), float(x[1])"
   ]
  },
  {
   "cell_type": "code",
   "execution_count": 7,
   "metadata": {},
   "outputs": [],
   "source": [
    "# Quick lambda function using the found parameters\n",
    "\n",
    "f = lambda n: a*math.log(n) + b"
   ]
  },
  {
   "cell_type": "code",
   "execution_count": 8,
   "metadata": {},
   "outputs": [
    {
     "name": "stdout",
     "output_type": "stream",
     "text": [
      "a: 1.3962011005396917\n",
      "b: -0.4924578596109646\n"
     ]
    }
   ],
   "source": [
    "# Get parameters, map inputs, create new dataframe\n",
    "\n",
    "a,b = log_least_sq(df, 'n', 'Avg_Guess')\n",
    "print('a:',a )\n",
    "print('b:',b)\n",
    "n = list(np.arange(4, 100000, 3))\n",
    "y =  list(map(f, n))\n",
    "df = pd.DataFrame({'n':n,'f':y})"
   ]
  },
  {
   "cell_type": "code",
   "execution_count": 10,
   "metadata": {},
   "outputs": [
    {
     "data": {
      "image/png": "[encoded data removed]",
      "text/plain": [
       "<Figure size 900x360 with 1 Axes>"
      ]
     },
     "metadata": {},
     "output_type": "display_data"
    }
   ],
   "source": [
    "# Display the function\n",
    "\n",
    "sns.set(style='darkgrid', palette='husl')\n",
    "sns.relplot(x='n', y='f', data=df, aspect=2.5, kind='line')\n",
    "plt.show()"
   ]
  },
  {
   "cell_type": "code",
   "execution_count": 12,
   "metadata": {},
   "outputs": [
    {
     "data": {
      "text/plain": [
       "1.7546411249798304"
      ]
     },
     "metadata": {},
     "output_type": "display_data"
    },
    {
     "data": {
      "text/plain": [
       "3.6901868376473903"
      ]
     },
     "metadata": {},
     "output_type": "display_data"
    },
    {
     "data": {
      "text/plain": [
       "4.969512965904405"
      ]
     },
     "metadata": {},
     "output_type": "display_data"
    },
    {
     "data": {
      "text/plain": [
       "5.937285822238186"
      ]
     },
     "metadata": {},
     "output_type": "display_data"
    },
    {
     "data": {
      "text/plain": [
       "9.15215766316276"
      ]
     },
     "metadata": {},
     "output_type": "display_data"
    }
   ],
   "source": [
    "display(f(5), f(20), f(50), f(100), f(1000))"
   ]
  },
  {
   "cell_type": "code",
   "execution_count": null,
   "metadata": {},
   "outputs": [],
   "source": []
  }
 ],
 "metadata": {
  "kernelspec": {
   "display_name": "Python 3",
   "language": "python",
   "name": "python3"
  },
  "language_info": {
   "codemirror_mode": {
    "name": "ipython",
    "version": 3
   },
   "file_extension": ".py",
   "mimetype": "text/x-python",
   "name": "python",
   "nbconvert_exporter": "python",
   "pygments_lexer": "ipython3",
   "version": "3.7.6"
  }
 },
 "nbformat": 4,
 "nbformat_minor": 4
}
